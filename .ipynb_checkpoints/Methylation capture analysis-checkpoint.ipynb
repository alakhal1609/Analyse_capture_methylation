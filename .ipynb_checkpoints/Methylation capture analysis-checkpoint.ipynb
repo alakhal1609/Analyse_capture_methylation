{
 "cells": [
  {
   "cell_type": "markdown",
   "metadata": {},
   "source": [
    "# Introduction\n",
    "The purpose of this notebook is to evaluate an epigenotyping technology targeting imprinted genes. \n",
    "The capture is targeted on a set of regions identified in humans and mice as being imprinted.\n",
    "\n",
    "Several capture protocols to be compared on 8 individuals:\n",
    "  - Agilent (2 protocols) + Illumina\n",
    "  - NEB + Twist (2 protocols) + Illumina"
   ]
  },
  {
   "cell_type": "markdown",
   "metadata": {},
   "source": [
    "### Imports\n",
    "Import libraries and write settings here."
   ]
  },
  {
   "cell_type": "code",
   "execution_count": 1,
   "metadata": {},
   "outputs": [],
   "source": [
    "# Data manipulation\n",
    "import pandas as pd\n",
    "import numpy as np\n",
    "\n",
    "# Options for pandas\n",
    "pd.options.display.max_columns = 50\n",
    "pd.options.display.max_rows = 30\n",
    "\n",
    "# Display all cell outputs\n",
    "from IPython.core.interactiveshell import InteractiveShell\n",
    "InteractiveShell.ast_node_interactivity = 'all'\n",
    "\n",
    "from IPython import get_ipython\n",
    "ipython = get_ipython()\n",
    "\n",
    "# autoreload extension\n",
    "if 'autoreload' not in ipython.extension_manager.loaded:\n",
    "    %load_ext autoreload\n",
    "\n",
    "%autoreload 2\n",
    "\n",
    "# Visualizations\n",
    "import plotly.figure_factory as ff\n",
    "import plotly.offline\n",
    "import plotly.graph_objects as go\n",
    "from plotly.subplots import make_subplots"
   ]
  },
  {
   "cell_type": "markdown",
   "metadata": {},
   "source": [
    "### Setting\n",
    "Create all global variables here"
   ]
  },
  {
   "cell_type": "code",
   "execution_count": 2,
   "metadata": {},
   "outputs": [],
   "source": [
    "dict_twist1_error = {\"AB72740530\":\"FR17MAG201513026\", \"AB7273400_\":\"FR17MAG201611897\", \"AB72735095\":\"FR17MAG201613767\", \"AB72735091\":\"FR17MAG201814095\", \"AB72240443\":\"FR17MAG201814099\", \"AB72727642\":\"FR17MAG201814115\", \"AB72727678\":\"FR17MAG201814130\", \"AB63081783\":\"FR35HJ3201702774\"}\n",
    "dict_twist1 = {\"AB72740530\":\"FR17MAG201513026\", \"AB72734005\":\"FR17MAG201611897\", \"AB72735095\":\"FR17MAG201613767\", \"AB72735091\":\"FR17MAG201814095\", \"AB72240443\":\"FR17MAG201814099\", \"AB72727642\":\"FR17MAG201814115\", \"AB72727678\":\"FR17MAG201814130\", \"AB63081783\":\"FR35HJ3201702774\"}\n",
    "dict_twist2 = {\"AB72740530\":\"FR17MAG201513026\", \"AB72734005\":\"FR17MAG201611897\", \"AB72735095\":\"FR17MAG201613767\", \"AB72735091\":\"FR17MAG201814095\", \"AB72740443\":\"FR17MAG201814099\", \"AB72727642\":\"FR17MAG201814115\", \"AB72727678\":\"FR17MAG201814130\", \"AB63081783\":\"FR35HJ3201702774\"}\n",
    "dict_agilent1 = {\"AB72740532\":\"FR17MAG201513026\", \"AB72680336\":\"FR17MAG201611897\", \"AB72734224\":\"FR17MAG201613767\", \"AB72740525\":\"FR17MAG201814095\", \"AB72740498\":\"FR17MAG201814099\", \"AB72734233\":\"FR17MAG201814115\", \"AB72733986\":\"FR17MAG201814130\", \"AB63083986\":\"FR35HJ3201702774\"}"
   ]
  },
  {
   "cell_type": "markdown",
   "metadata": {},
   "source": [
    "# Analysis/Functions\n"
   ]
  },
  {
   "cell_type": "markdown",
   "metadata": {},
   "source": [
    "## "
   ]
  },
  {
   "cell_type": "code",
   "execution_count": null,
   "metadata": {},
   "outputs": [],
   "source": []
  },
  {
   "cell_type": "markdown",
   "metadata": {},
   "source": [
    "# Results\n",
    "Show graphs and stats here"
   ]
  },
  {
   "cell_type": "markdown",
   "metadata": {},
   "source": [
    "# Conclusions and Next Steps\n",
    "Summarize findings here"
   ]
  },
  {
   "cell_type": "code",
   "execution_count": null,
   "metadata": {},
   "outputs": [],
   "source": []
  },
  {
   "cell_type": "code",
   "execution_count": null,
   "metadata": {},
   "outputs": [],
   "source": []
  }
 ],
 "metadata": {
  "kernelspec": {
   "display_name": "Python 3",
   "language": "python",
   "name": "python3"
  },
  "language_info": {
   "codemirror_mode": {
    "name": "ipython",
    "version": 3
   },
   "file_extension": ".py",
   "mimetype": "text/x-python",
   "name": "python",
   "nbconvert_exporter": "python",
   "pygments_lexer": "ipython3",
   "version": "3.8.5"
  },
  "toc": {
   "base_numbering": 1,
   "nav_menu": {},
   "number_sections": true,
   "sideBar": true,
   "skip_h1_title": false,
   "title_cell": "Table of Contents",
   "title_sidebar": "Contents",
   "toc_cell": false,
   "toc_position": {},
   "toc_section_display": true,
   "toc_window_display": false
  },
  "varInspector": {
   "cols": {
    "lenName": 16,
    "lenType": 16,
    "lenVar": 40
   },
   "kernels_config": {
    "python": {
     "delete_cmd_postfix": "",
     "delete_cmd_prefix": "del ",
     "library": "var_list.py",
     "varRefreshCmd": "print(var_dic_list())"
    },
    "r": {
     "delete_cmd_postfix": ") ",
     "delete_cmd_prefix": "rm(",
     "library": "var_list.r",
     "varRefreshCmd": "cat(var_dic_list()) "
    }
   },
   "types_to_exclude": [
    "module",
    "function",
    "builtin_function_or_method",
    "instance",
    "_Feature"
   ],
   "window_display": false
  }
 },
 "nbformat": 4,
 "nbformat_minor": 4
}
